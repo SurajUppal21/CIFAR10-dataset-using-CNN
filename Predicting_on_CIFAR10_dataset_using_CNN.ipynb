{
  "cells": [
    {
      "cell_type": "markdown",
      "id": "9b866439",
      "metadata": {
        "id": "9b866439"
      },
      "source": [
        "### Importing the necesarry libraries"
      ]
    },
    {
      "cell_type": "code",
      "execution_count": 3,
      "id": "a860a115",
      "metadata": {
        "id": "a860a115"
      },
      "outputs": [],
      "source": [
        "from tensorflow.keras import datasets \n",
        "import matplotlib.pyplot as plt\n",
        "import numpy as np\n",
        "from keras.models import Sequential"
      ]
    },
    {
      "cell_type": "markdown",
      "id": "7e56c852",
      "metadata": {
        "id": "7e56c852"
      },
      "source": [
        "### Getting the CIFAR10 dataset"
      ]
    },
    {
      "cell_type": "code",
      "execution_count": 4,
      "id": "bb16b05b",
      "metadata": {
        "colab": {
          "base_uri": "https://localhost:8080/"
        },
        "id": "bb16b05b",
        "outputId": "4e490053-6b4d-43d1-fa63-e8de8e9ad017"
      },
      "outputs": [
        {
          "output_type": "stream",
          "name": "stdout",
          "text": [
            "Downloading data from https://www.cs.toronto.edu/~kriz/cifar-10-python.tar.gz\n",
            "170500096/170498071 [==============================] - 2s 0us/step\n",
            "170508288/170498071 [==============================] - 2s 0us/step\n"
          ]
        }
      ],
      "source": [
        "(X_train , y_train) , (X_test,y_test) = datasets.cifar10.load_data()"
      ]
    },
    {
      "cell_type": "code",
      "execution_count": 5,
      "id": "a6f93def",
      "metadata": {
        "colab": {
          "base_uri": "https://localhost:8080/"
        },
        "id": "a6f93def",
        "outputId": "63ed297a-03fd-41cf-8521-1e2d42d3f2f3"
      },
      "outputs": [
        {
          "output_type": "execute_result",
          "data": {
            "text/plain": [
              "(50000, 32, 32, 3)"
            ]
          },
          "metadata": {},
          "execution_count": 5
        }
      ],
      "source": [
        "X_train.shape # We have 32X32 fifty thousand RGB images in the train dataset"
      ]
    },
    {
      "cell_type": "code",
      "execution_count": 6,
      "id": "776a3e90",
      "metadata": {
        "colab": {
          "base_uri": "https://localhost:8080/"
        },
        "id": "776a3e90",
        "outputId": "de8d4eea-ebea-4e6f-8d7f-179fd7d15970"
      },
      "outputs": [
        {
          "output_type": "execute_result",
          "data": {
            "text/plain": [
              "(10000, 32, 32, 3)"
            ]
          },
          "metadata": {},
          "execution_count": 6
        }
      ],
      "source": [
        "X_test.shape # We have 32X32 ten thousand RGB images in the test dataset"
      ]
    },
    {
      "cell_type": "code",
      "execution_count": 7,
      "id": "d18b204a",
      "metadata": {
        "colab": {
          "base_uri": "https://localhost:8080/",
          "height": 176
        },
        "id": "d18b204a",
        "outputId": "d0ecf6d5-cb11-4b4e-bc38-28560a530bf5"
      },
      "outputs": [
        {
          "output_type": "execute_result",
          "data": {
            "text/plain": [
              "<matplotlib.image.AxesImage at 0x7f282b04cb50>"
            ]
          },
          "metadata": {},
          "execution_count": 7
        },
        {
          "output_type": "display_data",
          "data": {
            "text/plain": [
              "<Figure size 1080x144 with 1 Axes>"
            ],
            "image/png": "[encoded data removed]"
          },
          "metadata": {
            "needs_background": "light"
          }
        }
      ],
      "source": [
        "plt.figure(figsize=(15,2)) # This is how the images look\n",
        "plt.imshow(X_train[1])"
      ]
    },
    {
      "cell_type": "code",
      "execution_count": 8,
      "id": "17833c41",
      "metadata": {
        "colab": {
          "base_uri": "https://localhost:8080/"
        },
        "id": "17833c41",
        "outputId": "144397e5-5d6a-4e8c-af28-0545a0d5cdc7"
      },
      "outputs": [
        {
          "output_type": "execute_result",
          "data": {
            "text/plain": [
              "(10000, 1)"
            ]
          },
          "metadata": {},
          "execution_count": 8
        }
      ],
      "source": [
        "y_test.shape"
      ]
    },
    {
      "cell_type": "code",
      "execution_count": 9,
      "id": "15c664d0",
      "metadata": {
        "colab": {
          "base_uri": "https://localhost:8080/"
        },
        "id": "15c664d0",
        "outputId": "073326cd-5456-47a1-ae56-fc507366cc9b"
      },
      "outputs": [
        {
          "output_type": "execute_result",
          "data": {
            "text/plain": [
              "(50000, 1)"
            ]
          },
          "metadata": {},
          "execution_count": 9
        }
      ],
      "source": [
        "y_train.shape"
      ]
    },
    {
      "cell_type": "code",
      "execution_count": 10,
      "id": "30de5ab0",
      "metadata": {
        "colab": {
          "base_uri": "https://localhost:8080/"
        },
        "id": "30de5ab0",
        "outputId": "f08a2621-a126-4fa8-ffda-0341fcda6f85"
      },
      "outputs": [
        {
          "output_type": "execute_result",
          "data": {
            "text/plain": [
              "array([[6],\n",
              "       [9],\n",
              "       [9],\n",
              "       [4],\n",
              "       [1]], dtype=uint8)"
            ]
          },
          "metadata": {},
          "execution_count": 10
        }
      ],
      "source": [
        "y_train[:5] \n",
        "# We need to change the shape because we are going to use sparse categorical crossentropy"
      ]
    },
    {
      "cell_type": "code",
      "execution_count": 11,
      "id": "c8b828fa",
      "metadata": {
        "colab": {
          "base_uri": "https://localhost:8080/"
        },
        "id": "c8b828fa",
        "outputId": "5b4fe7ea-780b-4562-b6df-88e91934a871"
      },
      "outputs": [
        {
          "output_type": "execute_result",
          "data": {
            "text/plain": [
              "array([6, 9, 9, 4, 1], dtype=uint8)"
            ]
          },
          "metadata": {},
          "execution_count": 11
        }
      ],
      "source": [
        "y_train = y_train.reshape(-1)\n",
        "y_train[0:5]"
      ]
    },
    {
      "cell_type": "markdown",
      "id": "04cae996",
      "metadata": {
        "id": "04cae996"
      },
      "source": [
        "### After reshaping the shape of y_train is"
      ]
    },
    {
      "cell_type": "code",
      "execution_count": 12,
      "id": "62410800",
      "metadata": {
        "colab": {
          "base_uri": "https://localhost:8080/"
        },
        "id": "62410800",
        "outputId": "9f6fa2d4-67c6-4ffa-862a-470f5a1fc48f"
      },
      "outputs": [
        {
          "output_type": "execute_result",
          "data": {
            "text/plain": [
              "(50000,)"
            ]
          },
          "metadata": {},
          "execution_count": 12
        }
      ],
      "source": [
        "y_train.shape "
      ]
    },
    {
      "cell_type": "code",
      "execution_count": 13,
      "id": "9a07ec80",
      "metadata": {
        "id": "9a07ec80"
      },
      "outputs": [],
      "source": [
        "classes = [\"airplane\",\"automobile\",\"bird\",\"cat\",\"deer\",\"dog\",\"frog\",\"horse\",\"ship\",\"truck\"]"
      ]
    },
    {
      "cell_type": "markdown",
      "id": "d28739d2",
      "metadata": {
        "id": "d28739d2"
      },
      "source": [
        "### These are the various classes in the CIFAR10 dataset"
      ]
    },
    {
      "cell_type": "code",
      "execution_count": 14,
      "id": "f5c91fd6",
      "metadata": {
        "colab": {
          "base_uri": "https://localhost:8080/"
        },
        "id": "f5c91fd6",
        "outputId": "c1cd7968-1540-4369-ddc6-1f5def533071"
      },
      "outputs": [
        {
          "output_type": "stream",
          "name": "stdout",
          "text": [
            "['airplane', 'automobile', 'bird', 'cat', 'deer', 'dog', 'frog', 'horse', 'ship', 'truck']\n"
          ]
        }
      ],
      "source": [
        "print(classes)"
      ]
    },
    {
      "cell_type": "code",
      "execution_count": 15,
      "id": "be4559c1",
      "metadata": {
        "id": "be4559c1"
      },
      "outputs": [],
      "source": [
        "def plot_sample(X,y,index): # Making a custom function that can be used to display any image\n",
        "    plt.figure(figsize=(15,2))\n",
        "    plt.imshow(X[index])\n",
        "    plt.xlabel(classes[y[index]])"
      ]
    },
    {
      "cell_type": "code",
      "execution_count": 16,
      "id": "82c4b573",
      "metadata": {
        "colab": {
          "base_uri": "https://localhost:8080/",
          "height": 173
        },
        "id": "82c4b573",
        "outputId": "d8ccb6cd-8770-43ae-d5a2-74345ff5e76d"
      },
      "outputs": [
        {
          "output_type": "display_data",
          "data": {
            "text/plain": [
              "<Figure size 1080x144 with 1 Axes>"
            ],
            "image/png": "[encoded data removed]"
          },
          "metadata": {
            "needs_background": "light"
          }
        }
      ],
      "source": [
        "plot_sample(X_train,y_train,0)"
      ]
    },
    {
      "cell_type": "markdown",
      "id": "a72d2212",
      "metadata": {
        "id": "a72d2212"
      },
      "source": [
        "### Normalizing the train and test dataset to increase learning speed"
      ]
    },
    {
      "cell_type": "code",
      "execution_count": 17,
      "id": "22d79a19",
      "metadata": {
        "id": "22d79a19"
      },
      "outputs": [],
      "source": [
        "X_train = X_train/255 \n",
        "X_test = X_test/255"
      ]
    },
    {
      "cell_type": "markdown",
      "id": "4824c519",
      "metadata": {
        "id": "4824c519"
      },
      "source": [
        "### Importing callbacks for efficient and accurate training this will also help us in preventing overfitting"
      ]
    },
    {
      "cell_type": "code",
      "execution_count": 18,
      "id": "3fef3587",
      "metadata": {
        "id": "3fef3587"
      },
      "outputs": [],
      "source": [
        "from keras.callbacks import EarlyStopping, ReduceLROnPlateau"
      ]
    },
    {
      "cell_type": "markdown",
      "id": "6a236c89",
      "metadata": {
        "id": "6a236c89"
      },
      "source": [
        "### Early Stopping callback is used to end the training on the best epoch according to what monitor has been used here I have used validation accuracy as my monitor for all callbacks"
      ]
    },
    {
      "cell_type": "markdown",
      "id": "42e1f2f9",
      "metadata": {
        "id": "42e1f2f9"
      },
      "source": [
        "[Refer this for ReduceLR](https://keras.io/api/callbacks/reduce_lr_on_plateau/)\n",
        "### This ReduceLROnPlateau callback helps us get to the global minima otherwise we would get stuck in the local minima"
      ]
    },
    {
      "cell_type": "code",
      "execution_count": 19,
      "id": "d6c3c0f7",
      "metadata": {
        "id": "d6c3c0f7"
      },
      "outputs": [],
      "source": [
        "epochs = 100\n",
        "early_stopping = EarlyStopping(monitor='val_accuracy',\n",
        "                          min_delta=0,\n",
        "                          patience=10,\n",
        "                          verbose=1,\n",
        "                          restore_best_weights=True\n",
        "                          )\n",
        "\n",
        "reduce_learningrate = ReduceLROnPlateau(monitor='val_accuracy',\n",
        "                              factor=0.2,\n",
        "                              patience=8,\n",
        "                              verbose=1,\n",
        "                              min_delta=0.0001)\n",
        "\n",
        "callbacks_list = [early_stopping,reduce_learningrate]"
      ]
    },
    {
      "cell_type": "code",
      "execution_count": 20,
      "id": "d75baf23",
      "metadata": {
        "id": "d75baf23"
      },
      "outputs": [],
      "source": [
        "test_set = (X_test,y_test) # This set of data will be used for validation "
      ]
    },
    {
      "cell_type": "markdown",
      "id": "de3b83d4",
      "metadata": {
        "id": "de3b83d4"
      },
      "source": [
        "### NOTE even though the above data is being used for validation it can still be used for evaluation of the model because our model has not directly trained on this data"
      ]
    },
    {
      "cell_type": "markdown",
      "id": "8164bf1f",
      "metadata": {
        "id": "8164bf1f"
      },
      "source": [
        "### Importing the required layers"
      ]
    },
    {
      "cell_type": "markdown",
      "id": "bdaf22d6",
      "metadata": {
        "id": "bdaf22d6"
      },
      "source": [
        "### Below I have used a unifrom dropout layer of 0.25 there are other ways like increasing the dropout rate uniformly for eg:- starting at 0.2 and going till 0.5"
      ]
    },
    {
      "cell_type": "markdown",
      "id": "dd328c73",
      "metadata": {
        "id": "dd328c73"
      },
      "source": [
        "### Batch Normalization layer helps in making the mean output 0 and standard deviation 1 it helps in reducing the number of epochs required for training"
      ]
    },
    {
      "cell_type": "code",
      "execution_count": 21,
      "id": "718c0073",
      "metadata": {
        "id": "718c0073"
      },
      "outputs": [],
      "source": [
        "from keras.layers import Dense,Conv2D,MaxPooling2D,BatchNormalization, Flatten, Dropout"
      ]
    },
    {
      "cell_type": "code",
      "execution_count": 22,
      "id": "f9dd4c88",
      "metadata": {
        "id": "f9dd4c88"
      },
      "outputs": [],
      "source": [
        "cnn = Sequential()\n",
        "\n",
        "# Convolutional layers\n",
        "\n",
        "#First layer \n",
        "cnn.add(Conv2D(filters = 32,kernel_size = (3,3),activation = \"relu\",padding=\"same\",input_shape = (32,32,3)))\n",
        "cnn.add(BatchNormalization())\n",
        "cnn.add(Conv2D(filters=32,kernel_size = (3, 3), activation='relu', padding='same'))\n",
        "cnn.add(BatchNormalization())\n",
        "cnn.add(MaxPooling2D(pool_size=2,strides=2))\n",
        "cnn.add(Dropout(0.25))\n",
        "\n",
        "# Second layer\n",
        "cnn.add(Conv2D(filters = 64,kernel_size = (3,3),activation = \"relu\",padding=\"same\"))\n",
        "cnn.add(BatchNormalization())\n",
        "cnn.add(Conv2D(filters = 64,kernel_size = (3, 3), activation='relu', padding='same'))\n",
        "cnn.add(BatchNormalization())\n",
        "cnn.add(MaxPooling2D(pool_size=2,strides=2))\n",
        "cnn.add(Dropout(0.25))\n",
        "\n",
        "# Third layer \n",
        "cnn.add(Conv2D(filters = 128,kernel_size = (3,3),activation = \"relu\",padding=\"same\"))\n",
        "cnn.add(BatchNormalization())\n",
        "cnn.add(Conv2D(filters = 128,kernel_size = (3,3),activation = \"relu\",padding=\"same\"))\n",
        "cnn.add(BatchNormalization())\n",
        "cnn.add(MaxPooling2D(pool_size=2,strides=2))\n",
        "cnn.add(Dropout(0.25))\n",
        "\n",
        "# Dense layers\n",
        "cnn.add(Flatten())\n",
        "\n",
        "# Fully connected dense layer\n",
        "cnn.add(Dense(128, activation = 'relu'))\n",
        "cnn.add(BatchNormalization())\n",
        "cnn.add(Dropout(0.25))\n",
        "# Prediction layer\n",
        "cnn.add(Dense(10, activation = 'softmax'))\n",
        "\n",
        "# Compiling the model\n",
        "cnn.compile(optimizer = \"adam\",\n",
        "             loss = \"sparse_categorical_crossentropy\",\n",
        "             metrics = [\"accuracy\"])"
      ]
    },
    {
      "cell_type": "code",
      "execution_count": 23,
      "id": "4966f242",
      "metadata": {
        "colab": {
          "base_uri": "https://localhost:8080/"
        },
        "id": "4966f242",
        "outputId": "8e16fee3-dee0-4c09-a5bf-ed898c96a655"
      },
      "outputs": [
        {
          "output_type": "stream",
          "name": "stdout",
          "text": [
            "Model: \"sequential\"\n",
            "_________________________________________________________________\n",
            " Layer (type)                Output Shape              Param #   \n",
            "=================================================================\n",
            " conv2d (Conv2D)             (None, 32, 32, 32)        896       \n",
            "                                                                 \n",
            " batch_normalization (BatchN  (None, 32, 32, 32)       128       \n",
            " ormalization)                                                   \n",
            "                                                                 \n",
            " conv2d_1 (Conv2D)           (None, 32, 32, 32)        9248      \n",
            "                                                                 \n",
            " batch_normalization_1 (Batc  (None, 32, 32, 32)       128       \n",
            " hNormalization)                                                 \n",
            "                                                                 \n",
            " max_pooling2d (MaxPooling2D  (None, 16, 16, 32)       0         \n",
            " )                                                               \n",
            "                                                                 \n",
            " dropout (Dropout)           (None, 16, 16, 32)        0         \n",
            "                                                                 \n",
            " conv2d_2 (Conv2D)           (None, 16, 16, 64)        18496     \n",
            "                                                                 \n",
            " batch_normalization_2 (Batc  (None, 16, 16, 64)       256       \n",
            " hNormalization)                                                 \n",
            "                                                                 \n",
            " conv2d_3 (Conv2D)           (None, 16, 16, 64)        36928     \n",
            "                                                                 \n",
            " batch_normalization_3 (Batc  (None, 16, 16, 64)       256       \n",
            " hNormalization)                                                 \n",
            "                                                                 \n",
            " max_pooling2d_1 (MaxPooling  (None, 8, 8, 64)         0         \n",
            " 2D)                                                             \n",
            "                                                                 \n",
            " dropout_1 (Dropout)         (None, 8, 8, 64)          0         \n",
            "                                                                 \n",
            " conv2d_4 (Conv2D)           (None, 8, 8, 128)         73856     \n",
            "                                                                 \n",
            " batch_normalization_4 (Batc  (None, 8, 8, 128)        512       \n",
            " hNormalization)                                                 \n",
            "                                                                 \n",
            " conv2d_5 (Conv2D)           (None, 8, 8, 128)         147584    \n",
            "                                                                 \n",
            " batch_normalization_5 (Batc  (None, 8, 8, 128)        512       \n",
            " hNormalization)                                                 \n",
            "                                                                 \n",
            " max_pooling2d_2 (MaxPooling  (None, 4, 4, 128)        0         \n",
            " 2D)                                                             \n",
            "                                                                 \n",
            " dropout_2 (Dropout)         (None, 4, 4, 128)         0         \n",
            "                                                                 \n",
            " flatten (Flatten)           (None, 2048)              0         \n",
            "                                                                 \n",
            " dense (Dense)               (None, 128)               262272    \n",
            "                                                                 \n",
            " batch_normalization_6 (Batc  (None, 128)              512       \n",
            " hNormalization)                                                 \n",
            "                                                                 \n",
            " dropout_3 (Dropout)         (None, 128)               0         \n",
            "                                                                 \n",
            " dense_1 (Dense)             (None, 10)                1290      \n",
            "                                                                 \n",
            "=================================================================\n",
            "Total params: 552,874\n",
            "Trainable params: 551,722\n",
            "Non-trainable params: 1,152\n",
            "_________________________________________________________________\n"
          ]
        }
      ],
      "source": [
        "cnn.summary() # This is how our model looks \n",
        "# NOTE more the number of parameters longer will be the training time"
      ]
    },
    {
      "cell_type": "markdown",
      "id": "a977b7ab",
      "metadata": {
        "id": "a977b7ab"
      },
      "source": [
        "### We are also going to augment our data to reduce overfitting and increasing accuracy you can read about image augmentation further here \n",
        "[link](https://www.analyticsvidhya.com/blog/2020/08/image-augmentation-on-the-fly-using-keras-imagedatagenerator/)"
      ]
    },
    {
      "cell_type": "code",
      "execution_count": 24,
      "id": "dd7b1578",
      "metadata": {
        "id": "dd7b1578"
      },
      "outputs": [],
      "source": [
        "from keras.preprocessing.image import ImageDataGenerator "
      ]
    },
    {
      "cell_type": "code",
      "execution_count": 25,
      "id": "22e1ee8a",
      "metadata": {
        "id": "22e1ee8a"
      },
      "outputs": [],
      "source": [
        "aug = ImageDataGenerator(\n",
        "          rotation_range=10,\n",
        "          width_shift_range=0.1,\n",
        "          height_shift_range=0.1,\n",
        "          horizontal_flip= True,\n",
        "          vertical_flip= False\n",
        ")\n",
        "data_aug = aug.flow(X_train,y_train,64)"
      ]
    },
    {
      "cell_type": "code",
      "execution_count": 26,
      "id": "e9c79407",
      "metadata": {
        "scrolled": false,
        "colab": {
          "base_uri": "https://localhost:8080/"
        },
        "id": "e9c79407",
        "outputId": "4a92a85b-8a14-40a5-b8c7-8e1132e14e18"
      },
      "outputs": [
        {
          "output_type": "stream",
          "name": "stdout",
          "text": [
            "Epoch 1/100\n",
            "782/782 [==============================] - 38s 33ms/step - loss: 1.5205 - accuracy: 0.4570 - val_loss: 1.1478 - val_accuracy: 0.5929 - lr: 0.0010\n",
            "Epoch 2/100\n",
            "782/782 [==============================] - 25s 32ms/step - loss: 1.0857 - accuracy: 0.6130 - val_loss: 0.8897 - val_accuracy: 0.6922 - lr: 0.0010\n",
            "Epoch 3/100\n",
            "782/782 [==============================] - 26s 33ms/step - loss: 0.9196 - accuracy: 0.6771 - val_loss: 1.0519 - val_accuracy: 0.6542 - lr: 0.0010\n",
            "Epoch 4/100\n",
            "782/782 [==============================] - 25s 32ms/step - loss: 0.8280 - accuracy: 0.7097 - val_loss: 0.7668 - val_accuracy: 0.7393 - lr: 0.0010\n",
            "Epoch 5/100\n",
            "782/782 [==============================] - 25s 32ms/step - loss: 0.7689 - accuracy: 0.7343 - val_loss: 0.6713 - val_accuracy: 0.7704 - lr: 0.0010\n",
            "Epoch 6/100\n",
            "782/782 [==============================] - 25s 32ms/step - loss: 0.7179 - accuracy: 0.7488 - val_loss: 0.7597 - val_accuracy: 0.7513 - lr: 0.0010\n",
            "Epoch 7/100\n",
            "782/782 [==============================] - 25s 32ms/step - loss: 0.6775 - accuracy: 0.7663 - val_loss: 0.8071 - val_accuracy: 0.7373 - lr: 0.0010\n",
            "Epoch 8/100\n",
            "782/782 [==============================] - 25s 32ms/step - loss: 0.6516 - accuracy: 0.7761 - val_loss: 0.7986 - val_accuracy: 0.7373 - lr: 0.0010\n",
            "Epoch 9/100\n",
            "782/782 [==============================] - 25s 32ms/step - loss: 0.6170 - accuracy: 0.7876 - val_loss: 0.9433 - val_accuracy: 0.6946 - lr: 0.0010\n",
            "Epoch 10/100\n",
            "782/782 [==============================] - 25s 32ms/step - loss: 0.5996 - accuracy: 0.7940 - val_loss: 0.6654 - val_accuracy: 0.7813 - lr: 0.0010\n",
            "Epoch 11/100\n",
            "782/782 [==============================] - 25s 32ms/step - loss: 0.5827 - accuracy: 0.7995 - val_loss: 0.6234 - val_accuracy: 0.7838 - lr: 0.0010\n",
            "Epoch 12/100\n",
            "782/782 [==============================] - 25s 32ms/step - loss: 0.5577 - accuracy: 0.8076 - val_loss: 0.6507 - val_accuracy: 0.7770 - lr: 0.0010\n",
            "Epoch 13/100\n",
            "782/782 [==============================] - 25s 32ms/step - loss: 0.5380 - accuracy: 0.8150 - val_loss: 0.5147 - val_accuracy: 0.8258 - lr: 0.0010\n",
            "Epoch 14/100\n",
            "782/782 [==============================] - 25s 32ms/step - loss: 0.5293 - accuracy: 0.8171 - val_loss: 0.5347 - val_accuracy: 0.8213 - lr: 0.0010\n",
            "Epoch 15/100\n",
            "782/782 [==============================] - 25s 32ms/step - loss: 0.5144 - accuracy: 0.8232 - val_loss: 0.4754 - val_accuracy: 0.8385 - lr: 0.0010\n",
            "Epoch 16/100\n",
            "782/782 [==============================] - 25s 32ms/step - loss: 0.5032 - accuracy: 0.8259 - val_loss: 0.5669 - val_accuracy: 0.8101 - lr: 0.0010\n",
            "Epoch 17/100\n",
            "782/782 [==============================] - 25s 32ms/step - loss: 0.4944 - accuracy: 0.8295 - val_loss: 0.5215 - val_accuracy: 0.8261 - lr: 0.0010\n",
            "Epoch 18/100\n",
            "782/782 [==============================] - 25s 32ms/step - loss: 0.4816 - accuracy: 0.8344 - val_loss: 0.6630 - val_accuracy: 0.7850 - lr: 0.0010\n",
            "Epoch 19/100\n",
            "782/782 [==============================] - 26s 33ms/step - loss: 0.4702 - accuracy: 0.8378 - val_loss: 0.4635 - val_accuracy: 0.8471 - lr: 0.0010\n",
            "Epoch 20/100\n",
            "782/782 [==============================] - 25s 32ms/step - loss: 0.4672 - accuracy: 0.8390 - val_loss: 0.4726 - val_accuracy: 0.8423 - lr: 0.0010\n",
            "Epoch 21/100\n",
            "782/782 [==============================] - 25s 32ms/step - loss: 0.4643 - accuracy: 0.8390 - val_loss: 0.5196 - val_accuracy: 0.8286 - lr: 0.0010\n",
            "Epoch 22/100\n",
            "782/782 [==============================] - 25s 32ms/step - loss: 0.4508 - accuracy: 0.8450 - val_loss: 0.5641 - val_accuracy: 0.8151 - lr: 0.0010\n",
            "Epoch 23/100\n",
            "782/782 [==============================] - 25s 32ms/step - loss: 0.4414 - accuracy: 0.8482 - val_loss: 0.5406 - val_accuracy: 0.8249 - lr: 0.0010\n",
            "Epoch 24/100\n",
            "782/782 [==============================] - 25s 32ms/step - loss: 0.4371 - accuracy: 0.8484 - val_loss: 0.5961 - val_accuracy: 0.8053 - lr: 0.0010\n",
            "Epoch 25/100\n",
            "782/782 [==============================] - 25s 32ms/step - loss: 0.4297 - accuracy: 0.8511 - val_loss: 0.4901 - val_accuracy: 0.8338 - lr: 0.0010\n",
            "Epoch 26/100\n",
            "782/782 [==============================] - 25s 32ms/step - loss: 0.4230 - accuracy: 0.8539 - val_loss: 0.4141 - val_accuracy: 0.8604 - lr: 0.0010\n",
            "Epoch 27/100\n",
            "782/782 [==============================] - 25s 32ms/step - loss: 0.4161 - accuracy: 0.8569 - val_loss: 0.3936 - val_accuracy: 0.8676 - lr: 0.0010\n",
            "Epoch 28/100\n",
            "782/782 [==============================] - 25s 32ms/step - loss: 0.4102 - accuracy: 0.8571 - val_loss: 0.4721 - val_accuracy: 0.8429 - lr: 0.0010\n",
            "Epoch 29/100\n",
            "782/782 [==============================] - 25s 32ms/step - loss: 0.4092 - accuracy: 0.8586 - val_loss: 0.4661 - val_accuracy: 0.8454 - lr: 0.0010\n",
            "Epoch 30/100\n",
            "782/782 [==============================] - 25s 32ms/step - loss: 0.4011 - accuracy: 0.8594 - val_loss: 0.4631 - val_accuracy: 0.8487 - lr: 0.0010\n",
            "Epoch 31/100\n",
            "782/782 [==============================] - 25s 32ms/step - loss: 0.3980 - accuracy: 0.8633 - val_loss: 0.4497 - val_accuracy: 0.8520 - lr: 0.0010\n",
            "Epoch 32/100\n",
            "782/782 [==============================] - 25s 33ms/step - loss: 0.3935 - accuracy: 0.8637 - val_loss: 0.4715 - val_accuracy: 0.8439 - lr: 0.0010\n",
            "Epoch 33/100\n",
            "782/782 [==============================] - 25s 32ms/step - loss: 0.3882 - accuracy: 0.8643 - val_loss: 0.5037 - val_accuracy: 0.8334 - lr: 0.0010\n",
            "Epoch 34/100\n",
            "782/782 [==============================] - 25s 32ms/step - loss: 0.3874 - accuracy: 0.8647 - val_loss: 0.4376 - val_accuracy: 0.8565 - lr: 0.0010\n",
            "Epoch 35/100\n",
            "782/782 [==============================] - 25s 33ms/step - loss: 0.3848 - accuracy: 0.8676 - val_loss: 0.3887 - val_accuracy: 0.8729 - lr: 0.0010\n",
            "Epoch 36/100\n",
            "782/782 [==============================] - 25s 32ms/step - loss: 0.3766 - accuracy: 0.8688 - val_loss: 0.4594 - val_accuracy: 0.8513 - lr: 0.0010\n",
            "Epoch 37/100\n",
            "782/782 [==============================] - 25s 32ms/step - loss: 0.3746 - accuracy: 0.8701 - val_loss: 0.3988 - val_accuracy: 0.8706 - lr: 0.0010\n",
            "Epoch 38/100\n",
            "782/782 [==============================] - 25s 32ms/step - loss: 0.3747 - accuracy: 0.8701 - val_loss: 0.4404 - val_accuracy: 0.8567 - lr: 0.0010\n",
            "Epoch 39/100\n",
            "782/782 [==============================] - 25s 32ms/step - loss: 0.3683 - accuracy: 0.8716 - val_loss: 0.3951 - val_accuracy: 0.8714 - lr: 0.0010\n",
            "Epoch 40/100\n",
            "782/782 [==============================] - 25s 32ms/step - loss: 0.3639 - accuracy: 0.8742 - val_loss: 0.5109 - val_accuracy: 0.8352 - lr: 0.0010\n",
            "Epoch 41/100\n",
            "782/782 [==============================] - 25s 32ms/step - loss: 0.3648 - accuracy: 0.8744 - val_loss: 0.4375 - val_accuracy: 0.8536 - lr: 0.0010\n",
            "Epoch 42/100\n",
            "782/782 [==============================] - 25s 32ms/step - loss: 0.3565 - accuracy: 0.8773 - val_loss: 0.4317 - val_accuracy: 0.8574 - lr: 0.0010\n",
            "Epoch 43/100\n",
            "782/782 [==============================] - ETA: 0s - loss: 0.3569 - accuracy: 0.8763\n",
            "Epoch 43: ReduceLROnPlateau reducing learning rate to 0.00020000000949949026.\n",
            "782/782 [==============================] - 25s 32ms/step - loss: 0.3569 - accuracy: 0.8763 - val_loss: 0.4163 - val_accuracy: 0.8652 - lr: 0.0010\n",
            "Epoch 44/100\n",
            "782/782 [==============================] - 25s 32ms/step - loss: 0.3287 - accuracy: 0.8854 - val_loss: 0.3567 - val_accuracy: 0.8843 - lr: 2.0000e-04\n",
            "Epoch 45/100\n",
            "782/782 [==============================] - 25s 32ms/step - loss: 0.3168 - accuracy: 0.8889 - val_loss: 0.3590 - val_accuracy: 0.8833 - lr: 2.0000e-04\n",
            "Epoch 46/100\n",
            "782/782 [==============================] - 25s 32ms/step - loss: 0.3078 - accuracy: 0.8931 - val_loss: 0.3642 - val_accuracy: 0.8819 - lr: 2.0000e-04\n",
            "Epoch 47/100\n",
            "782/782 [==============================] - 25s 32ms/step - loss: 0.3063 - accuracy: 0.8938 - val_loss: 0.3560 - val_accuracy: 0.8844 - lr: 2.0000e-04\n",
            "Epoch 48/100\n",
            "782/782 [==============================] - 25s 32ms/step - loss: 0.3006 - accuracy: 0.8958 - val_loss: 0.3782 - val_accuracy: 0.8779 - lr: 2.0000e-04\n",
            "Epoch 49/100\n",
            "782/782 [==============================] - 25s 32ms/step - loss: 0.2964 - accuracy: 0.8967 - val_loss: 0.3501 - val_accuracy: 0.8858 - lr: 2.0000e-04\n",
            "Epoch 50/100\n",
            "782/782 [==============================] - 25s 32ms/step - loss: 0.2928 - accuracy: 0.8979 - val_loss: 0.3533 - val_accuracy: 0.8861 - lr: 2.0000e-04\n",
            "Epoch 51/100\n",
            "782/782 [==============================] - 25s 32ms/step - loss: 0.2925 - accuracy: 0.8970 - val_loss: 0.3476 - val_accuracy: 0.8856 - lr: 2.0000e-04\n",
            "Epoch 52/100\n",
            "782/782 [==============================] - 25s 32ms/step - loss: 0.2869 - accuracy: 0.9000 - val_loss: 0.3606 - val_accuracy: 0.8811 - lr: 2.0000e-04\n",
            "Epoch 53/100\n",
            "782/782 [==============================] - 25s 32ms/step - loss: 0.2863 - accuracy: 0.8997 - val_loss: 0.3544 - val_accuracy: 0.8835 - lr: 2.0000e-04\n",
            "Epoch 54/100\n",
            "782/782 [==============================] - 25s 32ms/step - loss: 0.2873 - accuracy: 0.8992 - val_loss: 0.3596 - val_accuracy: 0.8833 - lr: 2.0000e-04\n",
            "Epoch 55/100\n",
            "782/782 [==============================] - 25s 32ms/step - loss: 0.2862 - accuracy: 0.9006 - val_loss: 0.3653 - val_accuracy: 0.8823 - lr: 2.0000e-04\n",
            "Epoch 56/100\n",
            "782/782 [==============================] - 25s 32ms/step - loss: 0.2862 - accuracy: 0.8996 - val_loss: 0.3543 - val_accuracy: 0.8837 - lr: 2.0000e-04\n",
            "Epoch 57/100\n",
            "782/782 [==============================] - 25s 32ms/step - loss: 0.2811 - accuracy: 0.9015 - val_loss: 0.3721 - val_accuracy: 0.8815 - lr: 2.0000e-04\n",
            "Epoch 58/100\n",
            "782/782 [==============================] - 25s 32ms/step - loss: 0.2788 - accuracy: 0.9024 - val_loss: 0.3539 - val_accuracy: 0.8868 - lr: 2.0000e-04\n",
            "Epoch 59/100\n",
            "782/782 [==============================] - 25s 32ms/step - loss: 0.2788 - accuracy: 0.9013 - val_loss: 0.3516 - val_accuracy: 0.8864 - lr: 2.0000e-04\n",
            "Epoch 60/100\n",
            "782/782 [==============================] - 25s 32ms/step - loss: 0.2736 - accuracy: 0.9043 - val_loss: 0.3699 - val_accuracy: 0.8817 - lr: 2.0000e-04\n",
            "Epoch 61/100\n",
            "782/782 [==============================] - 25s 32ms/step - loss: 0.2754 - accuracy: 0.9032 - val_loss: 0.3540 - val_accuracy: 0.8856 - lr: 2.0000e-04\n",
            "Epoch 62/100\n",
            "782/782 [==============================] - 25s 32ms/step - loss: 0.2749 - accuracy: 0.9030 - val_loss: 0.3421 - val_accuracy: 0.8882 - lr: 2.0000e-04\n",
            "Epoch 63/100\n",
            "782/782 [==============================] - 25s 32ms/step - loss: 0.2725 - accuracy: 0.9034 - val_loss: 0.3427 - val_accuracy: 0.8897 - lr: 2.0000e-04\n",
            "Epoch 64/100\n",
            "782/782 [==============================] - 25s 32ms/step - loss: 0.2701 - accuracy: 0.9053 - val_loss: 0.3795 - val_accuracy: 0.8777 - lr: 2.0000e-04\n",
            "Epoch 65/100\n",
            "782/782 [==============================] - 25s 32ms/step - loss: 0.2688 - accuracy: 0.9051 - val_loss: 0.3521 - val_accuracy: 0.8853 - lr: 2.0000e-04\n",
            "Epoch 66/100\n",
            "782/782 [==============================] - 25s 32ms/step - loss: 0.2679 - accuracy: 0.9057 - val_loss: 0.3460 - val_accuracy: 0.8868 - lr: 2.0000e-04\n",
            "Epoch 67/100\n",
            "782/782 [==============================] - 25s 32ms/step - loss: 0.2659 - accuracy: 0.9066 - val_loss: 0.3428 - val_accuracy: 0.8884 - lr: 2.0000e-04\n",
            "Epoch 68/100\n",
            "782/782 [==============================] - 25s 32ms/step - loss: 0.2686 - accuracy: 0.9053 - val_loss: 0.3586 - val_accuracy: 0.8846 - lr: 2.0000e-04\n",
            "Epoch 69/100\n",
            "782/782 [==============================] - 25s 32ms/step - loss: 0.2702 - accuracy: 0.9057 - val_loss: 0.3442 - val_accuracy: 0.8888 - lr: 2.0000e-04\n",
            "Epoch 70/100\n",
            "782/782 [==============================] - 25s 33ms/step - loss: 0.2635 - accuracy: 0.9084 - val_loss: 0.3533 - val_accuracy: 0.8886 - lr: 2.0000e-04\n",
            "Epoch 71/100\n",
            "782/782 [==============================] - 26s 33ms/step - loss: 0.2591 - accuracy: 0.9094 - val_loss: 0.3394 - val_accuracy: 0.8910 - lr: 2.0000e-04\n",
            "Epoch 72/100\n",
            "782/782 [==============================] - 25s 32ms/step - loss: 0.2624 - accuracy: 0.9084 - val_loss: 0.3459 - val_accuracy: 0.8912 - lr: 2.0000e-04\n",
            "Epoch 73/100\n",
            "782/782 [==============================] - 25s 32ms/step - loss: 0.2659 - accuracy: 0.9073 - val_loss: 0.3398 - val_accuracy: 0.8928 - lr: 2.0000e-04\n",
            "Epoch 74/100\n",
            "782/782 [==============================] - 25s 32ms/step - loss: 0.2611 - accuracy: 0.9078 - val_loss: 0.3774 - val_accuracy: 0.8810 - lr: 2.0000e-04\n",
            "Epoch 75/100\n",
            "782/782 [==============================] - 25s 32ms/step - loss: 0.2614 - accuracy: 0.9088 - val_loss: 0.3682 - val_accuracy: 0.8851 - lr: 2.0000e-04\n",
            "Epoch 76/100\n",
            "782/782 [==============================] - 26s 34ms/step - loss: 0.2559 - accuracy: 0.9099 - val_loss: 0.3382 - val_accuracy: 0.8930 - lr: 2.0000e-04\n",
            "Epoch 77/100\n",
            "782/782 [==============================] - 26s 33ms/step - loss: 0.2590 - accuracy: 0.9089 - val_loss: 0.3383 - val_accuracy: 0.8920 - lr: 2.0000e-04\n",
            "Epoch 78/100\n",
            "782/782 [==============================] - 25s 32ms/step - loss: 0.2543 - accuracy: 0.9112 - val_loss: 0.3716 - val_accuracy: 0.8816 - lr: 2.0000e-04\n",
            "Epoch 79/100\n",
            "782/782 [==============================] - 26s 33ms/step - loss: 0.2562 - accuracy: 0.9106 - val_loss: 0.3555 - val_accuracy: 0.8876 - lr: 2.0000e-04\n",
            "Epoch 80/100\n",
            "782/782 [==============================] - 26s 33ms/step - loss: 0.2579 - accuracy: 0.9097 - val_loss: 0.3597 - val_accuracy: 0.8842 - lr: 2.0000e-04\n",
            "Epoch 81/100\n",
            "782/782 [==============================] - 26s 33ms/step - loss: 0.2552 - accuracy: 0.9097 - val_loss: 0.3424 - val_accuracy: 0.8900 - lr: 2.0000e-04\n",
            "Epoch 82/100\n",
            "782/782 [==============================] - 26s 33ms/step - loss: 0.2570 - accuracy: 0.9109 - val_loss: 0.3601 - val_accuracy: 0.8855 - lr: 2.0000e-04\n",
            "Epoch 83/100\n",
            "782/782 [==============================] - 26s 33ms/step - loss: 0.2515 - accuracy: 0.9121 - val_loss: 0.3420 - val_accuracy: 0.8928 - lr: 2.0000e-04\n",
            "Epoch 84/100\n",
            "781/782 [============================>.] - ETA: 0s - loss: 0.2530 - accuracy: 0.9125\n",
            "Epoch 84: ReduceLROnPlateau reducing learning rate to 4.0000001899898055e-05.\n",
            "782/782 [==============================] - 26s 33ms/step - loss: 0.2533 - accuracy: 0.9124 - val_loss: 0.3416 - val_accuracy: 0.8906 - lr: 2.0000e-04\n",
            "Epoch 85/100\n",
            "782/782 [==============================] - 26s 33ms/step - loss: 0.2505 - accuracy: 0.9114 - val_loss: 0.3393 - val_accuracy: 0.8908 - lr: 4.0000e-05\n",
            "Epoch 86/100\n",
            "782/782 [==============================] - ETA: 0s - loss: 0.2464 - accuracy: 0.9134Restoring model weights from the end of the best epoch: 76.\n",
            "782/782 [==============================] - 26s 33ms/step - loss: 0.2464 - accuracy: 0.9134 - val_loss: 0.3401 - val_accuracy: 0.8908 - lr: 4.0000e-05\n",
            "Epoch 86: early stopping\n"
          ]
        }
      ],
      "source": [
        "history = cnn.fit(data_aug,\n",
        "        epochs=epochs,\n",
        "        callbacks=callbacks_list,\n",
        "       validation_data=test_set)"
      ]
    },
    {
      "cell_type": "markdown",
      "id": "70246f7a",
      "metadata": {
        "id": "70246f7a"
      },
      "source": [
        "### The training time can be a lot depending on wether you are using a GPU or not I recommend using Google Colab to run this note book"
      ]
    },
    {
      "cell_type": "markdown",
      "id": "70d9b413",
      "metadata": {
        "id": "70d9b413"
      },
      "source": [
        "### Importing the evaluation metrics"
      ]
    },
    {
      "cell_type": "code",
      "execution_count": 27,
      "id": "51ab3123",
      "metadata": {
        "id": "51ab3123"
      },
      "outputs": [],
      "source": [
        "from sklearn.metrics import confusion_matrix , classification_report"
      ]
    },
    {
      "cell_type": "code",
      "execution_count": 28,
      "id": "c166f0f3",
      "metadata": {
        "id": "c166f0f3"
      },
      "outputs": [],
      "source": [
        "evals = cnn.evaluate(X_test,y_test,verbose=0)"
      ]
    },
    {
      "cell_type": "code",
      "execution_count": 29,
      "id": "a242bc4f",
      "metadata": {
        "colab": {
          "base_uri": "https://localhost:8080/"
        },
        "id": "a242bc4f",
        "outputId": "54c34ba0-b8ab-43a8-fa48-484be46767eb"
      },
      "outputs": [
        {
          "output_type": "stream",
          "name": "stdout",
          "text": [
            "Final Loss is 0.338\n"
          ]
        }
      ],
      "source": [
        "print(f\"Final Loss is {np.round(evals[0],3)}\")"
      ]
    },
    {
      "cell_type": "code",
      "execution_count": 30,
      "id": "5e10a9a9",
      "metadata": {
        "colab": {
          "base_uri": "https://localhost:8080/"
        },
        "id": "5e10a9a9",
        "outputId": "f38f8a44-d259-470e-9008-eed8179fef88"
      },
      "outputs": [
        {
          "output_type": "stream",
          "name": "stdout",
          "text": [
            "Final Accuracy is 89.3%\n"
          ]
        }
      ],
      "source": [
        "print(f\"Final Accuracy is {np.round(100*evals[1],3)}%\")"
      ]
    },
    {
      "cell_type": "code",
      "execution_count": 32,
      "id": "406b1ad6",
      "metadata": {
        "id": "406b1ad6"
      },
      "outputs": [],
      "source": [
        "y_pred = cnn.predict(X_test)\n",
        "y_pred_classes = [np.argmax(element) for element in y_pred]"
      ]
    },
    {
      "cell_type": "code",
      "execution_count": 33,
      "id": "da7f228d",
      "metadata": {
        "colab": {
          "base_uri": "https://localhost:8080/"
        },
        "id": "da7f228d",
        "outputId": "d445603b-95ca-4730-8f91-f1d853fd851c"
      },
      "outputs": [
        {
          "output_type": "stream",
          "name": "stdout",
          "text": [
            "Classification Report: \n",
            "               precision    recall  f1-score   support\n",
            "\n",
            "           0       0.92      0.90      0.91      1000\n",
            "           1       0.94      0.95      0.95      1000\n",
            "           2       0.88      0.86      0.87      1000\n",
            "           3       0.84      0.73      0.78      1000\n",
            "           4       0.87      0.90      0.88      1000\n",
            "           5       0.87      0.80      0.83      1000\n",
            "           6       0.85      0.97      0.90      1000\n",
            "           7       0.94      0.93      0.93      1000\n",
            "           8       0.94      0.94      0.94      1000\n",
            "           9       0.90      0.95      0.92      1000\n",
            "\n",
            "    accuracy                           0.89     10000\n",
            "   macro avg       0.89      0.89      0.89     10000\n",
            "weighted avg       0.89      0.89      0.89     10000\n",
            "\n"
          ]
        }
      ],
      "source": [
        "print(\"Classification Report: \\n\",classification_report(y_test,y_pred_classes))"
      ]
    },
    {
      "cell_type": "markdown",
      "id": "965c3605",
      "metadata": {
        "id": "965c3605"
      },
      "source": [
        "# Plotting accuracy and loss"
      ]
    },
    {
      "cell_type": "code",
      "execution_count": 34,
      "id": "af5e3cb7",
      "metadata": {
        "colab": {
          "base_uri": "https://localhost:8080/",
          "height": 363
        },
        "id": "af5e3cb7",
        "outputId": "d7d23c96-58b2-40bc-881f-5d9055e6734d"
      },
      "outputs": [
        {
          "output_type": "display_data",
          "data": {
            "text/plain": [
              "<Figure size 1440x720 with 2 Axes>"
            ],
            "image/png": "[encoded data removed]"
          },
          "metadata": {}
        }
      ],
      "source": [
        "plt.style.use('dark_background')\n",
        "\n",
        "plt.figure(figsize=(20,10))\n",
        "plt.subplot(1, 2, 1)\n",
        "plt.suptitle('Optimizer used : Adam', fontsize=10)\n",
        "plt.ylabel('Loss', fontsize=16)\n",
        "plt.plot(history.history['loss'], label='Training Loss')\n",
        "plt.plot(history.history['val_loss'], label='Validation Loss')\n",
        "plt.legend(loc='upper right')\n",
        "\n",
        "plt.subplot(1, 2, 2)\n",
        "plt.ylabel('Accuracy', fontsize=16)\n",
        "plt.plot(history.history['accuracy'], label='Training Accuracy')\n",
        "plt.plot(history.history['val_accuracy'], label='Validation Accuracy')\n",
        "plt.legend(loc='lower right')\n",
        "plt.show()"
      ]
    },
    {
      "cell_type": "markdown",
      "id": "3609e138",
      "metadata": {
        "id": "3609e138"
      },
      "source": [
        "### You can try adding or removing layers from the provided model and save it using model.save(\"model_name.h5\")\n",
        "### Also you can explore transfer learning to get even better results\n",
        "## Thank you for reading"
      ]
    },
    {
      "cell_type": "code",
      "source": [
        "cnn.save(\"CIFAR10_model.h5\")"
      ],
      "metadata": {
        "id": "LJwYqf5An924"
      },
      "id": "LJwYqf5An924",
      "execution_count": 35,
      "outputs": []
    }
  ],
  "metadata": {
    "kernelspec": {
      "display_name": "Python 3 (ipykernel)",
      "language": "python",
      "name": "python3"
    },
    "language_info": {
      "codemirror_mode": {
        "name": "ipython",
        "version": 3
      },
      "file_extension": ".py",
      "mimetype": "text/x-python",
      "name": "python",
      "nbconvert_exporter": "python",
      "pygments_lexer": "ipython3",
      "version": "3.9.12"
    },
    "colab": {
      "provenance": []
    },
    "accelerator": "GPU"
  },
  "nbformat": 4,
  "nbformat_minor": 5
}